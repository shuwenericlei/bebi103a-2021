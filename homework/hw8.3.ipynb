{
 "cells": [
  {
   "cell_type": "markdown",
   "id": "a9ffb7b6",
   "metadata": {},
   "source": [
    "# Homework 8.3 [SOLO]: Modeling and parameter estimation for Boolean data (35 pts)\n",
    "\n",
    "<hr>\n",
    "\n",
    "In this problem, we will work with data of the True/False type. Lots of data sets in the biological sciences are like this. For example, we might look at a certain mutation in *Drosophila* that affects development and we might check whether or not eggs hatch.\n",
    "\n",
    "The data we will use comes from an experiment we have done for the last few years in [Bi 1x](http://bi1x.caltech.edu/) here at Caltech. The experiment was developed by Meaghan Sullivan in collaboration with Ravi Nath. Sophie Walton further developed strains that were used in the 2019 experiment, which we study here. We studied a neural circuit in *C. elegans* using optogenetics.\n",
    "\n",
    "A neural circuit is a series of interconnected neurons that create a pathway to transmit a signal from where it is received to where it causes a behavioral response in an animal.  An example is the neural circuit involved in reversals in *C. elegans*.  This circuit consists of three types of neurons: sensory neurons receive stimuli from the environment, command interneurons integrate information from many sensory neurons and pass a signal to the motor neurons, and motor neurons that control worm behavior, such as reversals.\n",
    "\n",
    "There are six non-motor neurons acting in a circuit that responds to environmental cues and triggers a reversal, a shown in the figure below (based on [Schultheis et. al. 2011](https://doi.org/10.1371/journal.pone.0018766)).  These include four sensory neurons (ALM, AVM, ASH, and PLM) and two interneurons (AVD and AVA).  Each sensory neuron is sensitive to a different type of stimulus.  For example, the sensory neuron we are studying (ASH) is sensitive to chemosensory stimuli such as toxins, while another neuron (PLM) is sensitive to mechanical stimuli (touch) in the posterior part of the worm's body.  The sensory neurons send signals that are integrated by the two command interneurons (AVA and AVD).  Each sensory neuron can provide an impulse to the command interneurons at any time.  In order for the command interneuron to fire and activate motor neurons, the sum of the stimuli at any point in time must exceed a certain threshold.  Once the stimuli from one or more sensory neurons has induced an action potential in a command interneuron, that signal is passed to motor neurons which will modulate worm behavior.\n",
    "\n",
    "<div style=\"margin: auto; width: 400px\">\n",
    "    \n",
    "![Reversal neural network](reversal_neural_network.png)\n",
    "    \n",
    "</div> \n",
    "\n",
    "In the experiment, we used optogenetics to dissect the function of individual neurons in this circuit.  We worked with two optogenetic worm strains.  The ASH strain has channelrhodopsin (ChR2, represented by a red barrel in the figure above) expressed only in the ASH sensory neuron.  When we shine blue light on this strain, we should activate the ChR2, which will allow sodium and calcium cations to flow into the neuron, simulating an action potential. We want to quantify how robustly this stimulation will cause the worm to exhibit aversion behavior and reverse.  \n",
    "\n",
    "We also studied an AVA strain that has channelrhodopsin expressed only in the AVA command interneuron.  Our goal is to quantify the effects of stimulating this neuron in terms of reversals compared to the ASH neuron and to wild type.\n",
    "\n",
    "The True/False data here are the whether or not the worms undergo a reversal. Here is what the students observed in 2019, the last year we did this experiment.\n",
    "\n",
    "|Strain|Year|Trials|Reversals|\n",
    "|:---:|:---:|:---:|:---:|\n",
    "|WT|2019|50|6|\n",
    "|ASH|2019|52|15|\n",
    "|AVA|2019|53|40|\n",
    "\n",
    "<!--\n",
    "\n",
    "|WT|2017|55|7|\n",
    "|ASH|2017|54|18|\n",
    "|AVA|2017|52|28|\n",
    "|WT|2016|36|6|\n",
    "|ASH|2016|35|12|\n",
    "|AVA|2016|36|30|\n",
    "|WT|2015|35|0|\n",
    "|ASH|2015|35|9|\n",
    "|AVA|2015|36|33|\n",
    "-->\n",
    "\n",
    "Our goal is to estimate $\\theta$, the probability of reversal for each respective strain.\n",
    "\n",
    "**a)** Propose a generative model for worm reversals. It should include the parameter $\\theta$.\n",
    "\n",
    "**b)** If possible, derive an analytical expression for the maximum likelihood estimate of $\\theta$. If you have the expression, compute the MLE for $\\theta$ for each of the three strains. If not, numerically compute the MLE for $\\theta$ for each of the three strains.\n",
    "\n",
    "**c)** Compute confidence intervals for your estimates of $\\theta$.\n",
    "\n",
    "**d)** Comment on the results and conduct any other analyses you think may help you understand the results of this experiment."
   ]
  },
  {
   "cell_type": "code",
   "execution_count": 1,
   "id": "2ce4553c",
   "metadata": {},
   "outputs": [],
   "source": [
    "import os, sys\n",
    "import numpy as np\n",
    "import warnings\n",
    "import scipy\n",
    "import scipy.optimize\n",
    "import tqdm\n",
    "from scipy.stats import multivariate_normal"
   ]
  },
  {
   "cell_type": "markdown",
   "id": "cfccd0b2",
   "metadata": {},
   "source": [
    "**a)** Propose a generative model for worm reversals. It should include the parameter $\\theta$."
   ]
  },
  {
   "cell_type": "markdown",
   "id": "f3ced64e",
   "metadata": {},
   "source": [
    "I proposed that the worm reversal will happen in a binomial distribution. The number of trial is N and the number selected is n and $\\theta$ is the probility of the worm reverse. The null hypothesis is that all the $\\theta$ are the same for all strains"
   ]
  },
  {
   "cell_type": "markdown",
   "id": "c74ae6d2",
   "metadata": {},
   "source": [
    "**b)** If possible, derive an analytical expression for the maximum likelihood estimate of $\\theta$. If you have the expression, compute the MLE for $\\theta$ for each of the three strains. If not, numerically compute the MLE for $\\theta$ for each of the three strains."
   ]
  },
  {
   "cell_type": "markdown",
   "id": "2dea9f08",
   "metadata": {},
   "source": [
    "\\begin{align}\n",
    "    P(n,N,\\theta)=\\frac{N!}{n!(N-n)!} \\theta ^n (1- \\theta)^(N-n)\n",
    "\\end{align}\n",
    "since the factorical term is only a constant which doesn't affect the MLE approximation, we will replace such as a constant k \n",
    "\\begin{align}\n",
    "    L(n,N,\\theta)=k+(N-n)log(1-\\theta)+nlog(\\theta)\n",
    "\\end{align}\n",
    "thus we take the derivative of the likelihood function and set to 0 to find the local minimum\n",
    "\\begin{align}\n",
    "    \\frac{d(L(n,N,\\theta))}{d\\theta}=-\\frac{N-n}{1-\\theta}+\\frac{n}{\\theta}\n",
    "\\end{align}\n",
    "\\begin{align}|\n",
    "    0=-\\frac{N-n}{1-\\theta}+\\frac{n}{\\theta}\n",
    "\\end{align}\n",
    "\\begin{align}\n",
    "    \\frac{N-n}{1-\\theta}=\\frac{n}{\\theta}\n",
    "\\end{align}\n",
    "\\begin{align}\n",
    "    \\theta=\\frac{n}{N}\n",
    "\\end{align}"
   ]
  },
  {
   "cell_type": "markdown",
   "id": "d5972d58",
   "metadata": {},
   "source": [
    "**c)** Compute confidence intervals for your estimates of $\\theta$."
   ]
  },
  {
   "cell_type": "code",
   "execution_count": 2,
   "id": "44f91623",
   "metadata": {},
   "outputs": [],
   "source": [
    "WT=np.ones(50)\n",
    "WT[:44]=np.zeros(44)\n",
    "ASH=np.zeros(52)\n",
    "ASH[:15]=np.ones(15)\n",
    "AVA=np.zeros(53)\n",
    "AVA[:40]=np.ones(40)"
   ]
  },
  {
   "cell_type": "code",
   "execution_count": 29,
   "id": "4c58d89e",
   "metadata": {},
   "outputs": [],
   "source": [
    "def draw_bs_sample(data):\n",
    "    \"\"\"Draw a bootstrap sample from a 1D data set.\"\"\"\n",
    "    generate_random=np.random.choice(data, np.random.randint(len(data)))\n",
    "    return len(generate_random), np.sum(generate_random ==1)\n",
    "\n",
    "def theta_r(N,n):\n",
    "    \"\"\"\n",
    "    Compute plug-in estimate for the bivariate correlation coefficient.\n",
    "    \"\"\"\n",
    "    return (\n",
    "        n/N\n",
    "    )\n",
    "def draw_bs_theta(data, size=1):\n",
    "    \"\"\"\n",
    "    Draw bootstrap pairs replicates.\n",
    "    \"\"\"\n",
    "    out = np.empty(size)\n",
    "\n",
    "    for i in range(size):\n",
    "        out[i] = theta_r(*draw_bs_sample(data))\n",
    "\n",
    "    return out"
   ]
  },
  {
   "cell_type": "code",
   "execution_count": 36,
   "id": "c1c27364",
   "metadata": {},
   "outputs": [
    {
     "name": "stdout",
     "output_type": "stream",
     "text": [
      "\n",
      "θ for WT int:   [0.00, 0.27]\n",
      "θ for ASH int: [0.02, 0.56]\n",
      "θ for AVA int: [0.50, 0.99]\n",
      "\n"
     ]
    }
   ],
   "source": [
    "#draw_bs_sample(WT)\n",
    "WT_theta=draw_bs_theta(WT,50)\n",
    "conf_int_theta_WT = np.percentile(WT_theta, [2.5, 97.5])\n",
    "ASH_theta=draw_bs_theta(ASH,50)\n",
    "conf_int_theta_ASH = np.percentile(ASH_theta, [2.5, 97.5])\n",
    "AVA_theta=draw_bs_theta(AVA,50)\n",
    "conf_int_theta_AVA = np.percentile(AVA_theta, [2.5, 97.5])\n",
    "\n",
    "print(\n",
    "    \"\"\"\n",
    "θ for WT int:   [{0:.2f}, {1:.2f}]\n",
    "θ for ASH int: [{2:.2f}, {3:.2f}]\n",
    "θ for AVA int: [{4:.2f}, {5:.2f}]\n",
    "\"\"\".format(\n",
    "        *tuple(conf_int_theta_WT), *tuple(conf_int_theta_ASH),  *tuple(conf_int_theta_AVA)\n",
    "    )\n",
    ")"
   ]
  },
  {
   "cell_type": "markdown",
   "id": "83a5d4ce",
   "metadata": {},
   "source": [
    "**d)** Comment on the results and conduct any other analyses you think may help you understand the results of this experiment."
   ]
  },
  {
   "cell_type": "markdown",
   "id": "59e9c8c0",
   "metadata": {},
   "source": [
    "I think the results of the confidence interval of $\\theta$ make sense because the higher the reversal rate the higher the \\theta should be for binomial distribution, thus AVA has a higher $\\theta$ than ASH and ASH has a higher $\\theta$ than WT. Different strain of worms has different $\\theta$, we reject the null hypothesis"
   ]
  },
  {
   "cell_type": "code",
   "execution_count": null,
   "id": "7b667591",
   "metadata": {},
   "outputs": [],
   "source": []
  }
 ],
 "metadata": {
  "kernelspec": {
   "display_name": "Python 3",
   "language": "python",
   "name": "python3"
  },
  "language_info": {
   "codemirror_mode": {
    "name": "ipython",
    "version": 3
   },
   "file_extension": ".py",
   "mimetype": "text/x-python",
   "name": "python",
   "nbconvert_exporter": "python",
   "pygments_lexer": "ipython3",
   "version": "3.8.8"
  }
 },
 "nbformat": 4,
 "nbformat_minor": 5
}
