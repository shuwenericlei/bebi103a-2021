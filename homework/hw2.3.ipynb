{
 "cells": [
  {
   "cell_type": "markdown",
   "id": "edde1630",
   "metadata": {},
   "source": [
    "In a [future lesson](../../lessons/07/iqplot.iypnb), you will learn about **emprical cumulative distribution functions**, or ECDFs. These are useful ways to visualize how measured data are distributed. An ECDF evaluated at point _x_ is defined as\n",
    "\n",
    "ECDF(_x_) = fraction of data points ≤ _x_.\n",
    "\n",
    "The ECDF is defined on the entire real number line, with $\\mathrm{ECDF}(x\\to-\\infty) = 0$ and $\\mathrm{ECDF}(x\\to\\infty) = 1$. However, the ECDF is often plotted as discrete points, $\\{(x_i, y_i)\\}$, where for point $i$, $x_i$ is the value of the measured quantity and $y_i$ is $\\mathrm{ECDF}(x_i)$. For example, if I have a set of measured data with values (1.1, –6.7, 2.3, 9.8, 2.3), the points on the ECDF plot are\n",
    "\n",
    "| x      | y   |\n",
    "|:------:|:---:|\n",
    "| –6.7  |  0.2 |\n",
    "| 1.1   |  0.4 |\n",
    "| 2.3   |  0.6 |\n",
    "| 2.3   |  0.8 |\n",
    "| 9.8   |  1.0 |\n",
    "\n",
    "In this problem, you will use you newly acquired skills using Numpy and Bokeh to compute ECDFs from a real data set and plot them.\n",
    "\n",
    "[Gardner, Zanic, and coworkers](http://dx.doi.org/10.1016/j.cell.2011.10.037) investigated the dynamics of microtubule catastrophe, the switching of a microtubule from a growing to a shrinking state. In particular, they were interested in the time between the start of growth of a microtubule and the catastrophe event. They monitored microtubules by using tubulin (the monomer that comprises a microtubule) that was labeled with a fluorescent marker. As a control to make sure that fluorescent labels and exposure to laser light did not affect the microtubule dynamics, they performed a similar experiment using differential interference contrast (DIC) microscopy. They measured the time until catastrophe with labeled and unlabeled tubulin.\n",
    "\n",
    "We will look at the data used to generate Fig. 2a of their paper. In the end, you will generate a plot similar to that figure."
   ]
  },
  {
   "cell_type": "markdown",
   "id": "25247a58-04d7-424c-9d49-2a404714b59c",
   "metadata": {},
   "source": [
    "<div class=\"alert alert-info\">\n",
    "Total: 19.5/30\n",
    "</div>"
   ]
  },
  {
   "cell_type": "markdown",
   "id": "42eb8255",
   "metadata": {},
   "source": [
    "**a)** Write a function with the call signature `ecdfvals(data)`, which takes a one-dimensional Numpy array (or Pandas `Series`; the same construction of your function will work for both) of data and returns the `x` and `y` values for plotting the ECDF in the \"dots\" style, as in Fig. 2a of the Gardner, Zanic, et al. paper. As a reminder, \n",
    "\n",
    "> ECDF(*x*) = fraction of data points ≤ x.\n",
    "\n",
    "When you write this function, you may only use base Python and the standard library, in addition to Numpy and Pandas.\n"
   ]
  },
  {
   "cell_type": "code",
   "execution_count": 1,
   "id": "fd0bd7aa",
   "metadata": {},
   "outputs": [],
   "source": [
    "import numpy as np\n",
    "import bokeh.plotting\n",
    "import seaborn as sns\n",
    "import pandas as pd\n",
    "from collections import Counter\n",
    "\n",
    "def ecdfvals(data):\n",
    "    new_data={}\n",
    "    unique_num=np.unique(data)\n",
    "    data_sorted=data\n",
    "    for value in unique_num:\n",
    "        new_data[value]=len(np.where(data_sorted==value)[0])\n",
    "    total_occurance=np.sum(list(new_data.values()))\n",
    "    print(total_occurance)\n",
    "    for i in new_data.keys():\n",
    "        new_data[i]= new_data[i]/total_occurance\n",
    "    return new_data"
   ]
  },
  {
   "cell_type": "code",
   "execution_count": 3,
   "id": "88c9ea78",
   "metadata": {},
   "outputs": [
    {
     "name": "stdout",
     "output_type": "stream",
     "text": [
      "306\n"
     ]
    }
   ],
   "source": [
    "import csv\n",
    "filename='../data/gardner_time_to_catastrophe_dic_tidy.csv'\n",
    "file = open(filename)\n",
    "catastrophe_time=csv.reader(file)\n",
    "header = []\n",
    "header = next(catastrophe_time)\n",
    "rows = []\n",
    "for row in catastrophe_time:\n",
    "        rows.append(row)\n",
    "catastrophe_time_extract=np.array(rows)\n",
    "catastrophe_time_extract=catastrophe_time_extract[:,1]\n",
    "ECDF=ecdfvals(catastrophe_time_extract)"
   ]
  },
  {
   "cell_type": "markdown",
   "id": "55f8b560-16ef-47d5-aecc-e602cf9f3f0f",
   "metadata": {},
   "source": [
    "<div class=\"alert alert-info\">\n",
    "Notebook did not run - check data path. -1\n",
    "</div>"
   ]
  },
  {
   "cell_type": "code",
   "execution_count": 4,
   "id": "d87577f4",
   "metadata": {},
   "outputs": [
    {
     "data": {
      "text/html": [
       "<div>\n",
       "<style scoped>\n",
       "    .dataframe tbody tr th:only-of-type {\n",
       "        vertical-align: middle;\n",
       "    }\n",
       "\n",
       "    .dataframe tbody tr th {\n",
       "        vertical-align: top;\n",
       "    }\n",
       "\n",
       "    .dataframe thead th {\n",
       "        text-align: right;\n",
       "    }\n",
       "</style>\n",
       "<table border=\"1\" class=\"dataframe\">\n",
       "  <thead>\n",
       "    <tr style=\"text-align: right;\">\n",
       "      <th></th>\n",
       "      <th>number</th>\n",
       "      <th>occurence</th>\n",
       "    </tr>\n",
       "  </thead>\n",
       "  <tbody>\n",
       "    <tr>\n",
       "      <th>70</th>\n",
       "      <td>40.0</td>\n",
       "      <td>0.003268</td>\n",
       "    </tr>\n",
       "    <tr>\n",
       "      <th>96</th>\n",
       "      <td>55.0</td>\n",
       "      <td>0.006536</td>\n",
       "    </tr>\n",
       "    <tr>\n",
       "      <th>102</th>\n",
       "      <td>60.0</td>\n",
       "      <td>0.013072</td>\n",
       "    </tr>\n",
       "    <tr>\n",
       "      <th>111</th>\n",
       "      <td>65.0</td>\n",
       "      <td>0.019608</td>\n",
       "    </tr>\n",
       "    <tr>\n",
       "      <th>124</th>\n",
       "      <td>75.0</td>\n",
       "      <td>0.026144</td>\n",
       "    </tr>\n",
       "  </tbody>\n",
       "</table>\n",
       "</div>"
      ],
      "text/plain": [
       "     number  occurence\n",
       "70     40.0   0.003268\n",
       "96     55.0   0.006536\n",
       "102    60.0   0.013072\n",
       "111    65.0   0.019608\n",
       "124    75.0   0.026144"
      ]
     },
     "execution_count": 4,
     "metadata": {},
     "output_type": "execute_result"
    }
   ],
   "source": [
    "# [float(i) for i in list(ECDF.keys())], list(ECDF.values())\n",
    "df = pd.DataFrame(columns=[\"number\",\"occurence\"])\n",
    "df[\"number\"]=[float(i) for i in list(ECDF.keys())]\n",
    "df[\"occurence\"]=list(ECDF.values())\n",
    "df=df.sort_values(\"number\")\n",
    "df[\"occurence\"]=df[\"occurence\"].cumsum(axis=0)\n",
    "df.head()"
   ]
  },
  {
   "cell_type": "code",
   "execution_count": 5,
   "id": "97e3e522",
   "metadata": {},
   "outputs": [],
   "source": [
    "p= bokeh.plotting.figure(\n",
    "    width=400,\n",
    "    height=300,\n",
    "    x_axis_label='x',\n",
    "    y_axis_label='y',\n",
    ")\n",
    "p.line(df[\"number\"], df[\"occurence\"])\n",
    "bokeh.io.show(p)"
   ]
  },
  {
   "cell_type": "markdown",
   "id": "7436d1b1-14d1-4c00-9a72-37de3ce90900",
   "metadata": {},
   "source": [
    "<div class=\"alert alert-info\">\n",
    "Here, we wanted you to plot two separate ECDFs- one with the times to catastrophe for the labeled samples and one for the unlabeled samples. The idea behind ECDFs is that they are a summary of the way the data is distributed. To be able to see whether two experimental conditions differ, you would want to compare their distributions in relation to each other, which is not possible when combining them into a single ECDF plot. -5\n",
    "    </div>"
   ]
  },
  {
   "cell_type": "markdown",
   "id": "ecfa8d26-8a5e-40b9-88cd-ec6333f4da8a",
   "metadata": {},
   "source": [
    "<div class=\"alert alert-info\">\n",
    "No mention of eye test. -3\n",
    "</div>"
   ]
  },
  {
   "cell_type": "markdown",
   "id": "4ff08b81-4075-4d89-8651-7d7fc765ccb4",
   "metadata": {},
   "source": [
    "<div class=\"alert alert-info\">\n",
    "No submission tag : -5% (-1.5)\n",
    "</div>"
   ]
  },
  {
   "cell_type": "code",
   "execution_count": null,
   "id": "a0557f69-aa1a-40bc-98ad-ff140b1f1542",
   "metadata": {},
   "outputs": [],
   "source": []
  }
 ],
 "metadata": {
  "kernelspec": {
   "display_name": "Python 3 (ipykernel)",
   "language": "python",
   "name": "python3"
  },
  "language_info": {
   "codemirror_mode": {
    "name": "ipython",
    "version": 3
   },
   "file_extension": ".py",
   "mimetype": "text/x-python",
   "name": "python",
   "nbconvert_exporter": "python",
   "pygments_lexer": "ipython3",
   "version": "3.8.11"
  }
 },
 "nbformat": 4,
 "nbformat_minor": 5
}
