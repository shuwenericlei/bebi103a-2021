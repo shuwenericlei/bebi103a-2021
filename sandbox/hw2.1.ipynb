{
 "cells": [
  {
   "cell_type": "markdown",
   "id": "07a70de7",
   "metadata": {},
   "source": [
    "# Homework 2.1: Fun with mutual information and Darwin (40 pts)\n",
    "\n",
    "In this problem, we will do an exercise that is useful for understanding how [mutual information](https://en.wikipedia.org/wiki/Mutual_information) works. This is an important concept in understanding cellular signaling in many contexts, including developmental and neuronal. You can read more about mutual information in [David MacKay's wonderful book](http://www.inference.org.uk/mackay/itila/) and applications in biology in [Bill Bialek's book](https://press.princeton.edu/books/hardcover/9780691138916/biophysics).\n",
    "\n",
    "In this fun exercise, we will take English text and see how much we know about a letter with knowledge of the letter than precedes it. For example, we have a much high chance of following a `t` with an `h` than with an `f`. We will perform a similar analysis as was done to produce Figure 8B in [Manuel Razo's thesis](https://mrazomej.github.io/phd/chapter_01/#entropy-information-and-the-math-behind-the-bit) (another great resourse to read about mutual information in biology).\n",
    "\n",
    "**a)** Download the entire text of Darwin's _Origin of the Species_ from Project Gutenberg here: [https://www.gutenberg.org/files/2009/2009-0.txt](https://www.gutenberg.org/files/2009/2009-0.txt). The text of the book starts after the line: `Sixth London Edition, with all Additions and Corrections.` The text of the book ends before the line: `*** END OF THE PROJECT GUTENBERG EBOOK ON THE ORIGIN OF SPECIES ***`. Produce a string that contains the text of the book.\n",
    "\n",
    "**b)** Write a function that takes in text, and achieves the following:\n",
    "\n",
    "1. Converts all carriage returns (`\\r`), newline characters, hyphens (`-`), en dashes (`–`) and em dashes (`—`) to spaces. \n",
    "2. Converts all letters to lower case.\n",
    "3. Converts special characters as follows: `à ⟶ a`, `ä ⟶ a`, `æ ⟶ ae`, `è ⟶ e`, `é ⟶ e`, `ê ⟶ e`, `ë ⟶ e`, `ô ⟶ o`, `ö ⟶ o`, `ü ⟶ u`, `œ ⟶ oe`.\n",
    "4. Strips out all characters that are not either letters or spaces.\n",
    "5. Converts any set of consecutive spaces into a single space.\n",
    "6. Returns the resulting string.\n",
    "\n",
    "Use this function to produce a string for analysis.\n",
    "\n",
    "**c)** Compute and print out the frequency of all 27 characters (the 26 letters and spaces). Can you see which characters are most common?\n",
    "\n",
    "**d)** Compute and print out the frequency of all 27² = 729 two-character combinations. Do you see any striking two-letter combinations?\n",
    "\n",
    "After future lessons, you will know how to make a plot of these data, possibly as a [heat map](https://en.wikipedia.org/wiki/Heat_map), or like Razo did in his thesis and MacKay in his book (see, e.g., Fig. 2.2). "
   ]
  },
  {
   "cell_type": "markdown",
   "id": "9d5e4172",
   "metadata": {},
   "source": [
    "**a)** Download the entire text of Darwin's _Origin of the Species_ from Project Gutenberg here: [https://www.gutenberg.org/files/2009/2009-0.txt](https://www.gutenberg.org/files/2009/2009-0.txt). The text of the book starts after the line: `Sixth London Edition, with all Additions and Corrections.` The text of the book ends before the line: `*** END OF THE PROJECT GUTENBERG EBOOK ON THE ORIGIN OF SPECIES ***`. Produce a string that contains the text of the book."
   ]
  },
  {
   "cell_type": "code",
   "execution_count": 17,
   "id": "a26ca49b-c52b-445f-bbb0-cc44766308df",
   "metadata": {},
   "outputs": [],
   "source": [
    "import numpy as np \n",
    "import pandas as pd "
   ]
  },
  {
   "cell_type": "code",
   "execution_count": 18,
   "id": "a5de81c9-0d78-4b47-a093-2fe0d5069e8b",
   "metadata": {
    "scrolled": true
   },
   "outputs": [],
   "source": [
    "filename = 'data/2009-0.txt'\n",
    "file=open(filename, 'r',encoding='utf8')\n",
    "type(file)\n",
    "file_string=file.read()\n",
    "index_s=file_string.find('Sixth London Edition, with all Additions and Corrections.')\n",
    "index_f=file_string.find('*** END OF THE PROJECT GUTENBERG EBOOK ON THE ORIGIN OF SPECIES ***')\n",
    "file_string_new=file_string[index_s:index_f]\n"
   ]
  },
  {
   "cell_type": "markdown",
   "id": "28d76d3a",
   "metadata": {},
   "source": [
    "**b)** Write a function that takes in text, and achieves the following:\n",
    "\n",
    "1. Converts all carriage returns (`\\r`), newline characters, hyphens (`-`), en dashes (`–`) and em dashes (`—`) to spaces. \n",
    "2. Converts all letters to lower case.\n",
    "3. Converts special characters as follows: `à ⟶ a`, `ä ⟶ a`, `æ ⟶ ae`, `è ⟶ e`, `é ⟶ e`, `ê ⟶ e`, `ë ⟶ e`, `ô ⟶ o`, `ö ⟶ o`, `ü ⟶ u`, `œ ⟶ oe`.\n",
    "4. Strips out all characters that are not either letters or spaces.\n",
    "5. Converts any set of consecutive spaces into asingle space.\n",
    "6. Returns the resulting string.\n",
    "\n",
    "Use this function to produce a string for analysis."
   ]
  },
  {
   "cell_type": "code",
   "execution_count": 34,
   "id": "06336610-ed8e-4d92-b86c-e16e3737b676",
   "metadata": {},
   "outputs": [
    {
     "ename": "TypeError",
     "evalue": "join() takes exactly one argument (0 given)",
     "output_type": "error",
     "traceback": [
      "\u001b[1;31m---------------------------------------------------------------------------\u001b[0m",
      "\u001b[1;31mTypeError\u001b[0m                                 Traceback (most recent call last)",
      "\u001b[1;32m~\\AppData\\Local\\Temp/ipykernel_5032/4264151737.py\u001b[0m in \u001b[0;36m<module>\u001b[1;34m\u001b[0m\n\u001b[0;32m     28\u001b[0m     \u001b[0ma\u001b[0m\u001b[1;33m.\u001b[0m\u001b[0mjoin\u001b[0m\u001b[1;33m(\u001b[0m\u001b[1;33m)\u001b[0m\u001b[1;33m\u001b[0m\u001b[1;33m\u001b[0m\u001b[0m\n\u001b[0;32m     29\u001b[0m     \u001b[1;32mreturn\u001b[0m \u001b[0ma\u001b[0m\u001b[1;33m\u001b[0m\u001b[1;33m\u001b[0m\u001b[0m\n\u001b[1;32m---> 30\u001b[1;33m \u001b[0mcoverting_my_string\u001b[0m\u001b[1;33m(\u001b[0m\u001b[0mfile_string_new\u001b[0m\u001b[1;33m)\u001b[0m\u001b[1;33m\u001b[0m\u001b[1;33m\u001b[0m\u001b[0m\n\u001b[0m",
      "\u001b[1;32m~\\AppData\\Local\\Temp/ipykernel_5032/4264151737.py\u001b[0m in \u001b[0;36mcoverting_my_string\u001b[1;34m(string)\u001b[0m\n\u001b[0;32m     26\u001b[0m     \u001b[0mstring\u001b[0m\u001b[1;33m.\u001b[0m\u001b[0mstrip\u001b[0m\u001b[1;33m(\u001b[0m\u001b[1;33m)\u001b[0m\u001b[1;33m\u001b[0m\u001b[1;33m\u001b[0m\u001b[0m\n\u001b[0;32m     27\u001b[0m     \u001b[0ma\u001b[0m\u001b[1;33m=\u001b[0m\u001b[0mlistToString\u001b[0m\u001b[1;33m(\u001b[0m\u001b[0mstring\u001b[0m\u001b[1;33m.\u001b[0m\u001b[0msplit\u001b[0m\u001b[1;33m(\u001b[0m\u001b[1;33m)\u001b[0m\u001b[1;33m)\u001b[0m\u001b[1;33m\u001b[0m\u001b[1;33m\u001b[0m\u001b[0m\n\u001b[1;32m---> 28\u001b[1;33m     \u001b[0ma\u001b[0m\u001b[1;33m.\u001b[0m\u001b[0mjoin\u001b[0m\u001b[1;33m(\u001b[0m\u001b[1;33m)\u001b[0m\u001b[1;33m\u001b[0m\u001b[1;33m\u001b[0m\u001b[0m\n\u001b[0m\u001b[0;32m     29\u001b[0m     \u001b[1;32mreturn\u001b[0m \u001b[0ma\u001b[0m\u001b[1;33m\u001b[0m\u001b[1;33m\u001b[0m\u001b[0m\n\u001b[0;32m     30\u001b[0m \u001b[0mcoverting_my_string\u001b[0m\u001b[1;33m(\u001b[0m\u001b[0mfile_string_new\u001b[0m\u001b[1;33m)\u001b[0m\u001b[1;33m\u001b[0m\u001b[1;33m\u001b[0m\u001b[0m\n",
      "\u001b[1;31mTypeError\u001b[0m: join() takes exactly one argument (0 given)"
     ]
    }
   ],
   "source": [
    "\n",
    "def coverting_my_string(string):\n",
    "    string.replace('\\r',' ')\n",
    "    string.replace('-',' ')\n",
    "    string.replace('–',' ')\n",
    "    string.replace('—',' ')\n",
    "    string.replace('\\n' ,'')\n",
    "    string.lower()\n",
    "    string.replace('à', 'a')\n",
    "    string.replace('ä', 'a')\n",
    "    string.replace('æ', 'ae')\n",
    "    string.replace('è', 'e')\n",
    "    string.replace('é', 'e')\n",
    "    string.replace('ê', 'e')\n",
    "    string.replace('ë', 'e')\n",
    "    string.replace('ô', 'o')\n",
    "    string.replace('ö', 'o')\n",
    "    string.replace('ü', 'u')\n",
    "    string.replace('œ', 'oe')\n",
    "    string.strip()\n",
    "    a=string.split()\n",
    "    a.join()\n",
    "    return a\n",
    "coverting_my_string(file_string_new)"
   ]
  },
  {
   "cell_type": "code",
   "execution_count": null,
   "id": "47cc644a",
   "metadata": {},
   "outputs": [],
   "source": []
  }
 ],
 "metadata": {
  "kernelspec": {
   "display_name": "Python 3 (ipykernel)",
   "language": "python",
   "name": "python3"
  },
  "language_info": {
   "codemirror_mode": {
    "name": "ipython",
    "version": 3
   },
   "file_extension": ".py",
   "mimetype": "text/x-python",
   "name": "python",
   "nbconvert_exporter": "python",
   "pygments_lexer": "ipython3",
   "version": "3.8.11"
  }
 },
 "nbformat": 4,
 "nbformat_minor": 5
}
